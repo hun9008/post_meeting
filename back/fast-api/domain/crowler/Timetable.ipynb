{
 "cells": [
  {
   "cell_type": "code",
   "execution_count": 27,
   "metadata": {},
   "outputs": [
    {
     "name": "stdout",
     "output_type": "stream",
     "text": [
      "'월'를 포함하는 요소를 찾을 수 없습니다: Message: no such element: Unable to locate element: {\"method\":\"css selector\",\"selector\":\".nb-t-05-item\"}\n",
      "  (Session info: chrome=118.0.5993.117)\n",
      "Stacktrace:\n",
      "0   chromedriver                        0x0000000102678510 chromedriver + 4310288\n",
      "1   chromedriver                        0x00000001026704bc chromedriver + 4277436\n",
      "2   chromedriver                        0x00000001022a3b6c chromedriver + 293740\n",
      "3   chromedriver                        0x00000001022e9040 chromedriver + 577600\n",
      "4   chromedriver                        0x0000000102323e60 chromedriver + 818784\n",
      "5   chromedriver                        0x00000001022dcfd0 chromedriver + 528336\n",
      "6   chromedriver                        0x00000001022dde7c chromedriver + 532092\n",
      "7   chromedriver                        0x000000010263e834 chromedriver + 4073524\n",
      "8   chromedriver                        0x00000001026427fc chromedriver + 4089852\n",
      "9   chromedriver                        0x0000000102642c58 chromedriver + 4090968\n",
      "10  chromedriver                        0x00000001026488f8 chromedriver + 4114680\n",
      "11  chromedriver                        0x0000000102643234 chromedriver + 4092468\n",
      "12  chromedriver                        0x000000010261d604 chromedriver + 3937796\n",
      "13  chromedriver                        0x000000010265fee8 chromedriver + 4210408\n",
      "14  chromedriver                        0x0000000102660064 chromedriver + 4210788\n",
      "15  chromedriver                        0x0000000102670134 chromedriver + 4276532\n",
      "16  libsystem_pthread.dylib             0x000000018eb3b034 _pthread_start + 136\n",
      "17  libsystem_pthread.dylib             0x000000018eb35e3c thread_start + 8\n",
      "\n"
     ]
    }
   ],
   "source": [
    "#-*- coding:utf-8 -*-\n",
    "from selenium import webdriver\n",
    "from bs4 import BeautifulSoup\n",
    "from time import sleep\n",
    "from openpyxl import Workbook,load_workbook\n",
    "from selenium import webdriver\n",
    "from webdriver_manager.chrome import ChromeDriverManager\n",
    "from selenium.webdriver.chrome.service import Service\n",
    "from selenium.webdriver.common.by import By\n",
    "from selenium.webdriver.support.ui import WebDriverWait\n",
    "from selenium.webdriver.support import expected_conditions as EC\n",
    "from selenium.webdriver.common.desired_capabilities import DesiredCapabilities\n",
    "from selenium.webdriver.support.ui import WebDriverWait\n",
    "from selenium.common.exceptions import NoSuchElementException\n",
    "\n",
    "caps = DesiredCapabilities().CHROME\n",
    "caps[\"pageLoadStrategy\"] = \"none\"\n",
    "\n",
    "driver = webdriver.Chrome(service=Service(ChromeDriverManager().install()),desired_capabilities=caps)\n",
    "driver.get('https://mportal.ajou.ac.kr/main.do')\n",
    "\n",
    "wait = WebDriverWait(driver, 20)\n",
    "\n",
    "element =wait.until(EC.presence_of_element_located((By.XPATH, \"//a[contains(text(), '로그인하세요')]\")))\n",
    "element.click()\n",
    "\n",
    "login()\n",
    "sleep(2)\n",
    "#item 가져오기\n",
    "time_table,subject_table, major,name ,soup= find_item()\n",
    "\n",
    "#json 전처리\n",
    "name = name.split('님')[0]\n",
    "subject=list(set(subject_table))\n",
    "subject = [ x.split()[0] for x in subject]\n",
    "rest_dict = {k: make_rest_time(v) for k, v in time_table.items()}\n",
    "major = major.split()[1]"
   ]
  },
  {
   "cell_type": "code",
   "execution_count": 28,
   "metadata": {},
   "outputs": [
    {
     "data": {
      "text/plain": [
       "{'월': ['A', 'B', 'C', 'D', 'E', 'F', 'G'],\n",
       " '화': ['B', 'C', 'E', 'F', 'G'],\n",
       " '수': ['B', 'D', 'F', 'G'],\n",
       " '목': ['A', 'B', 'E', 'F', 'G'],\n",
       " '금': ['B', 'C', 'D', 'E', 'F', 'G'],\n",
       " '토': ['A', 'B', 'C', 'D', 'E', 'F', 'G']}"
      ]
     },
     "execution_count": 28,
     "metadata": {},
     "output_type": "execute_result"
    }
   ],
   "source": [
    "rest_dict"
   ]
  },
  {
   "cell_type": "code",
   "execution_count": 17,
   "metadata": {},
   "outputs": [
    {
     "ename": "NameError",
     "evalue": "name 'rest_dict' is not defined",
     "output_type": "error",
     "traceback": [
      "\u001b[0;31m---------------------------------------------------------------------------\u001b[0m",
      "\u001b[0;31mNameError\u001b[0m                                 Traceback (most recent call last)",
      "\u001b[1;32m/Users/yuksehyun/Desktop/HACKATON/Team7_Backend/domain/crowler/Timetable.ipynb Cell 3\u001b[0m line \u001b[0;36m4\n\u001b[1;32m      <a href='vscode-notebook-cell:/Users/yuksehyun/Desktop/HACKATON/Team7_Backend/domain/crowler/Timetable.ipynb#W1sZmlsZQ%3D%3D?line=1'>2</a>\u001b[0m json_data[\u001b[39m'\u001b[39m\u001b[39mmajor\u001b[39m\u001b[39m'\u001b[39m] \u001b[39m=\u001b[39m major\n\u001b[1;32m      <a href='vscode-notebook-cell:/Users/yuksehyun/Desktop/HACKATON/Team7_Backend/domain/crowler/Timetable.ipynb#W1sZmlsZQ%3D%3D?line=2'>3</a>\u001b[0m json_data[\u001b[39m'\u001b[39m\u001b[39msubject\u001b[39m\u001b[39m'\u001b[39m] \u001b[39m=\u001b[39m subject\n\u001b[0;32m----> <a href='vscode-notebook-cell:/Users/yuksehyun/Desktop/HACKATON/Team7_Backend/domain/crowler/Timetable.ipynb#W1sZmlsZQ%3D%3D?line=3'>4</a>\u001b[0m json_data[\u001b[39m'\u001b[39m\u001b[39mday\u001b[39m\u001b[39m'\u001b[39m] \u001b[39m=\u001b[39m rest_dict\n\u001b[1;32m      <a href='vscode-notebook-cell:/Users/yuksehyun/Desktop/HACKATON/Team7_Backend/domain/crowler/Timetable.ipynb#W1sZmlsZQ%3D%3D?line=5'>6</a>\u001b[0m file_path \u001b[39m=\u001b[39m \u001b[39m\"\u001b[39m\u001b[39m./sample.json\u001b[39m\u001b[39m\"\u001b[39m\n\u001b[1;32m      <a href='vscode-notebook-cell:/Users/yuksehyun/Desktop/HACKATON/Team7_Backend/domain/crowler/Timetable.ipynb#W1sZmlsZQ%3D%3D?line=6'>7</a>\u001b[0m \u001b[39mwith\u001b[39;00m \u001b[39mopen\u001b[39m(file_path, \u001b[39m'\u001b[39m\u001b[39mw\u001b[39m\u001b[39m'\u001b[39m,encoding\u001b[39m=\u001b[39m\u001b[39m\"\u001b[39m\u001b[39mutf-8\u001b[39m\u001b[39m\"\u001b[39m) \u001b[39mas\u001b[39;00m f:\n",
      "\u001b[0;31mNameError\u001b[0m: name 'rest_dict' is not defined"
     ]
    }
   ],
   "source": [
    "json_data = {}\n",
    "json_data['major'] = major\n",
    "json_data['subject'] = subject\n",
    "json_data['day'] = rest_dict\n",
    "\n",
    "file_path = \"./sample.json\"\n",
    "with open(file_path, 'w',encoding=\"utf-8\") as f:\n",
    "   json.dump(json_data, f, ensure_ascii=False, indent=4)\n"
   ]
  },
  {
   "cell_type": "code",
   "execution_count": 8,
   "metadata": {},
   "outputs": [],
   "source": [
    "def make_rest_time(time_table):\n",
    "  rest_time =[]\n",
    "  for x in time_mapping.items():\n",
    "    if(is_overlap(x[1],time_table)):\n",
    "        pass\n",
    "    else:\n",
    "      rest_time.append(x[0])\n",
    "  return rest_time"
   ]
  },
  {
   "cell_type": "code",
   "execution_count": 3,
   "metadata": {},
   "outputs": [],
   "source": [
    "\n",
    "def is_overlap(time_slot1, time_table):\n",
    "    for time_slot2 in time_table:\n",
    "        start_time1, end_time1 = map(lambda x: int(x[:2]) * 60 + int(x[3:]), time_slot1.split('~'))\n",
    "        start_time2, end_time2 = map(lambda x: int(x[:2]) * 60 + int(x[3:]), time_slot2.split('~'))\n",
    "        if(start_time1 < end_time2 and start_time2 < end_time1):\n",
    "            return True\n",
    "    return False"
   ]
  },
  {
   "cell_type": "code",
   "execution_count": 4,
   "metadata": {},
   "outputs": [],
   "source": [
    "time_mapping ={'A': '09:00~10:30',\n",
    "      'B': '10:30~12:00',\n",
    "      'C': '12:00~13:30',\n",
    "      'D': '13:30~15:00',\n",
    "      'E': '15:00~16:30',\n",
    "      'F': '16:30~18:00',\n",
    "      'G': '18:00~19:30',\n",
    "      }\n",
    "\n",
    "\n",
    "\n"
   ]
  },
  {
   "cell_type": "code",
   "execution_count": 5,
   "metadata": {},
   "outputs": [],
   "source": [
    "def login():\n",
    "    driver.maximize_window()\n",
    "    input_id = wait.until(EC.presence_of_element_located((By.NAME, 'userId')))\n",
    "    input_pw = wait.until(EC.presence_of_element_located((By.NAME, 'password')))\n",
    "    btn_login = wait.until(EC.presence_of_element_located((By.ID, 'loginSubmit')))\n",
    "    input_id.send_keys('sdfg8931')\n",
    "    input_pw.send_keys('sehyun5786')\n",
    "    btn_login.click()\n",
    "    sleep(2)"
   ]
  },
  {
   "cell_type": "code",
   "execution_count": 26,
   "metadata": {},
   "outputs": [],
   "source": [
    "\n",
    "def find_item():\n",
    "  week = ['월','화','수','목','금','토','월']\n",
    "  time_table ={}\n",
    "  subject_table =[]\n",
    "  for w in week:\n",
    "    day = wait.until(EC.presence_of_element_located((By.XPATH, f\"//em[contains(text(), '{w}')]\")))\n",
    "    day.click()\n",
    "    try:\n",
    "      wait.until(EC.staleness_of(driver.find_element(By.CLASS_NAME, \"nb-t-05-item\")))\n",
    "    except NoSuchElementException as e:\n",
    "      print(f\"'{w}'를 포함하는 요소를 찾을 수 없습니다:\", e)\n",
    "    page_source = driver.page_source\n",
    "    soup = BeautifulSoup(page_source, 'html.parser')\n",
    "    items = soup.find_all(class_=\"nb-t-05-item\")\n",
    "    # 결과를 저장할 리스트를 초기화합니다.\n",
    "    time_schedule = []\n",
    "    # 각 요소에서 시간대 정보를 추출합니다.\n",
    "    for item in items:\n",
    "        time_element = item.find(class_=\"ng-binding\")\n",
    "        subject_element = item.find(class_=\"theme-sub ng-binding\")\n",
    "        if time_element:\n",
    "            time = time_element.get_text()\n",
    "            time_schedule.append(time)\n",
    "        if subject_element:\n",
    "            subject = subject_element.get_text()\n",
    "            subject_table.append(subject)\n",
    "    time_table[w] = time_schedule\n",
    "    major = soup.select_one(\".nb-p-01-myInfo dd.ng-binding\").get_text().strip()\n",
    "    name_element = soup.find('dt', class_='ng-binding')\n",
    "    name = name_element.get_text(strip=True)\n",
    "  return time_table,subject_table,major,name,soup\n",
    "  # BeautifulSoup을 사용하여 HTML을 파싱합니다.\n",
    "\n",
    "\n"
   ]
  },
  {
   "cell_type": "code",
   "execution_count": null,
   "metadata": {},
   "outputs": [],
   "source": []
  }
 ],
 "metadata": {
  "kernelspec": {
   "display_name": "Python 3",
   "language": "python",
   "name": "python3"
  },
  "language_info": {
   "codemirror_mode": {
    "name": "ipython",
    "version": 3
   },
   "file_extension": ".py",
   "mimetype": "text/x-python",
   "name": "python",
   "nbconvert_exporter": "python",
   "pygments_lexer": "ipython3",
   "version": "3.9.17"
  }
 },
 "nbformat": 4,
 "nbformat_minor": 2
}
