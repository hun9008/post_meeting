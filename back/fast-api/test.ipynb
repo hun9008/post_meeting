{
 "cells": [
  {
   "cell_type": "code",
   "execution_count": 27,
   "metadata": {},
   "outputs": [],
   "source": [
    "from models import User\n",
    "from database import SessionLocal\n",
    "from sqlalchemy import sql\n"
   ]
  },
  {
   "cell_type": "code",
   "execution_count": null,
   "metadata": {},
   "outputs": [],
   "source": [
    "from domain.email.send_email import send_email_async,send_email_background\n",
    "from fastapi import BackgroundTasks\n",
    "send_email_async('hello','sdfg8931@ajou.ac.kr',{'title':'hello','name':'sehyun'})\n",
    "send_email_background(BackgroundTasks,'hello','sdfg8931@ajou.ac.kr',{'title':'hello','name':'sehyun'})"
   ]
  },
  {
   "cell_type": "code",
   "execution_count": 2,
   "metadata": {},
   "outputs": [],
   "source": [
    "user1 = User(user_id ='sehyun' , user_pw='1234' ,user_name= 'me')\n",
    "user2 = User(user_id ='hoon' , user_pw='1234',user_name ='Roomate')"
   ]
  },
  {
   "cell_type": "code",
   "execution_count": 36,
   "metadata": {},
   "outputs": [],
   "source": [
    "db = SessionLocal()\n",
    "\n",
    "def create_user(user):\n",
    "  db.add(user)\n",
    "  db.commit()\n",
    "  print('user생성이 완료되었습니다.')\n",
    "\n",
    "def get_user(user_name):\n",
    "    return db.query(User).filter(User.user_name== user_name).first()\n",
    "\n",
    "def create_postit(user_name, postit):\n",
    "    user =get_user(user_name)\n",
    "    user.postit = postit\n",
    "    db.commit()\n",
    "\n",
    "def delete_postit(user_name):\n",
    "    user = get_user(user_name)\n",
    "    user.postit = None\n",
    "    db.commit()\n",
    "\n"
   ]
  },
  {
   "cell_type": "code",
   "execution_count": 21,
   "metadata": {},
   "outputs": [],
   "source": [
    "create_postit('me',new_postit)"
   ]
  },
  {
   "cell_type": "code",
   "execution_count": 3,
   "metadata": {},
   "outputs": [],
   "source": [
    "from jinja2 import Environment, FileSystemLoader\n",
    "\n",
    "# Jinja2 템플릿 파일의 디렉토리 경로를 설정합니다.\n",
    "template_dir = \"template\"  # 템플릿 파일이 있는 디렉토리 경로로 변경해야 합니다.\n",
    "\n",
    "# Jinja2 환경을 설정합니다.\n",
    "env = Environment(loader=FileSystemLoader(template_dir))\n",
    "\n",
    "def render_jinja_template(data):\n",
    "    template_name = \"email.html\"\n",
    "    template = env.get_template(template_name)\n",
    "    rendered_html = template.render(body=data)\n",
    "    return rendered_html"
   ]
  },
  {
   "cell_type": "code",
   "execution_count": 4,
   "metadata": {},
   "outputs": [],
   "source": [
    "data = {'title': 'Hello', 'name': 'Sehyun'}\n",
    "rendered_html = render_jinja_template(data)\n"
   ]
  },
  {
   "cell_type": "code",
   "execution_count": 5,
   "metadata": {},
   "outputs": [
    {
     "name": "stdout",
     "output_type": "stream",
     "text": [
      "\n",
      "<html>\n",
      "<body style=\"margin: 0; padding: 0; box-sizing: border-box; font-family: Arial, Helvetica, sans-serif;\">\n",
      "<div style=\"width: 100%; background: #efefef; border-radius: 10px; padding: 10px;\">\n",
      "  <div style=\"margin: 0 auto; width: 90%; text-align: center;\">\n",
      "    <h1 style=\"background-color: rgba(0, 53, 102, 1); padding: 5px 10px; border-radius: 5px; color: white;\">Hello</h1>\n",
      "    <div style=\"margin: 30px auto; background: white; width: 40%; border-radius: 10px; padding: 50px; text-align: center;\">\n",
      "      <h3 style=\"margin-bottom: 100px; font-size: 24px;\">Sehyun!</h3>\n",
      "      <p style=\"margin-bottom: 30px;\">Lorem ipsum dolor sit amet consectetur adipisicing elit. Eligendi, doloremque.</p>\n",
      "      <a style=\"display: block; margin: 0 auto; border: none; background-color: rgba(255, 214, 10, 1); color: white; width: 200px; line-height: 24px; padding: 10px; font-size: 24px; border-radius: 10px; cursor: pointer; text-decoration: none;\"\n",
      "        href=\"https://fastapi.tiangolo.com/\"\n",
      "        target=\"_blank\"\n",
      "      >\n",
      "        Let's Go\n",
      "      </a>\n",
      "    </div>\n",
      "  </div>\n",
      "</div>\n",
      "</body>\n",
      "</html>\n"
     ]
    }
   ],
   "source": [
    "print(rendered_html)"
   ]
  },
  {
   "cell_type": "code",
   "execution_count": null,
   "metadata": {},
   "outputs": [],
   "source": []
  }
 ],
 "metadata": {
  "kernelspec": {
   "display_name": "Python 3",
   "language": "python",
   "name": "python3"
  },
  "language_info": {
   "codemirror_mode": {
    "name": "ipython",
    "version": 3
   },
   "file_extension": ".py",
   "mimetype": "text/x-python",
   "name": "python",
   "nbconvert_exporter": "python",
   "pygments_lexer": "ipython3",
   "version": "3.9.17"
  }
 },
 "nbformat": 4,
 "nbformat_minor": 2
}
